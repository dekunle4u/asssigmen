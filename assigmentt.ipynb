{
 "cells": [
  {
   "cell_type": "code",
   "execution_count": 30,
   "id": "29059261",
   "metadata": {},
   "outputs": [
    {
     "name": "stdout",
     "output_type": "stream",
     "text": [
      "Enter amount of liters per week: 100\n",
      "100 of liters per week\n",
      "400 liters per month\n",
      "1200 for three months\n"
     ]
    }
   ],
   "source": [
    "\n",
    "a = input(\"Enter amount of liters per week: \")\n",
    "print(a, \"of liters per week\")\n",
    "b = 4\n",
    "c = int(a) * b\n",
    "print(c, \"liters per month\")\n",
    "d = 3\n",
    "e = c * d\n",
    "print(e, \"for three months\")\n"
   ]
  }
 ],
 "metadata": {
  "kernelspec": {
   "display_name": "Python 3 (ipykernel)",
   "language": "python",
   "name": "python3"
  },
  "language_info": {
   "codemirror_mode": {
    "name": "ipython",
    "version": 3
   },
   "file_extension": ".py",
   "mimetype": "text/x-python",
   "name": "python",
   "nbconvert_exporter": "python",
   "pygments_lexer": "ipython3",
   "version": "3.11.1"
  }
 },
 "nbformat": 4,
 "nbformat_minor": 5
}
